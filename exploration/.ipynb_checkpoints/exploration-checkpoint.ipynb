{
 "cells": [
  {
   "cell_type": "code",
   "execution_count": 1,
   "id": "eaefca4a",
   "metadata": {},
   "outputs": [],
   "source": [
    "# Data Manipulation\n",
    "import pandas as pd\n",
    "import numpy as np\n",
    "from sklearn.feature_selection import VarianceThreshold\n",
    "\n",
    "# Data visualization\n",
    "import matplotlib.pyplot as plt"
   ]
  },
  {
   "cell_type": "markdown",
   "id": "a82324d2",
   "metadata": {},
   "source": [
    "# 1. Reading in Data"
   ]
  },
  {
   "cell_type": "code",
   "execution_count": 2,
   "id": "cf1d0058",
   "metadata": {},
   "outputs": [
    {
     "name": "stderr",
     "output_type": "stream",
     "text": [
      "/Library/Frameworks/Python.framework/Versions/3.8/lib/python3.8/site-packages/IPython/core/interactiveshell.py:3146: DtypeWarning: Columns (717,718) have mixed types.Specify dtype option on import or set low_memory=False.\n",
      "  has_raised = await self.run_ast_nodes(code_ast.body, cell_name,\n"
     ]
    }
   ],
   "source": [
    "data = pd.read_csv(\"../data/recs2009_public.csv\")"
   ]
  },
  {
   "cell_type": "code",
   "execution_count": 3,
   "id": "14ccfc64",
   "metadata": {},
   "outputs": [
    {
     "data": {
      "text/html": [
       "<div>\n",
       "<style scoped>\n",
       "    .dataframe tbody tr th:only-of-type {\n",
       "        vertical-align: middle;\n",
       "    }\n",
       "\n",
       "    .dataframe tbody tr th {\n",
       "        vertical-align: top;\n",
       "    }\n",
       "\n",
       "    .dataframe thead th {\n",
       "        text-align: right;\n",
       "    }\n",
       "</style>\n",
       "<table border=\"1\" class=\"dataframe\">\n",
       "  <thead>\n",
       "    <tr style=\"text-align: right;\">\n",
       "      <th></th>\n",
       "      <th>DOEID</th>\n",
       "      <th>REGIONC</th>\n",
       "      <th>DIVISION</th>\n",
       "      <th>REPORTABLE_DOMAIN</th>\n",
       "      <th>TYPEHUQ</th>\n",
       "      <th>NWEIGHT</th>\n",
       "      <th>HDD65</th>\n",
       "      <th>CDD65</th>\n",
       "      <th>HDD30YR</th>\n",
       "      <th>CDD30YR</th>\n",
       "      <th>...</th>\n",
       "      <th>SCALEKER</th>\n",
       "      <th>IECC_Climate_Pub</th>\n",
       "      <th>HDD50</th>\n",
       "      <th>CDD80</th>\n",
       "      <th>GND_HDD65</th>\n",
       "      <th>WSF</th>\n",
       "      <th>OA_LAT</th>\n",
       "      <th>GWT</th>\n",
       "      <th>DesignDBT99</th>\n",
       "      <th>DesignDBT1</th>\n",
       "    </tr>\n",
       "  </thead>\n",
       "  <tbody>\n",
       "    <tr>\n",
       "      <th>0</th>\n",
       "      <td>1</td>\n",
       "      <td>2</td>\n",
       "      <td>4</td>\n",
       "      <td>12</td>\n",
       "      <td>2</td>\n",
       "      <td>2471.68</td>\n",
       "      <td>4742</td>\n",
       "      <td>1080</td>\n",
       "      <td>4953</td>\n",
       "      <td>1271</td>\n",
       "      <td>...</td>\n",
       "      <td>-2</td>\n",
       "      <td>4A</td>\n",
       "      <td>2117</td>\n",
       "      <td>56</td>\n",
       "      <td>4250</td>\n",
       "      <td>0.48</td>\n",
       "      <td>6</td>\n",
       "      <td>56</td>\n",
       "      <td>9</td>\n",
       "      <td>96</td>\n",
       "    </tr>\n",
       "    <tr>\n",
       "      <th>1</th>\n",
       "      <td>2</td>\n",
       "      <td>4</td>\n",
       "      <td>10</td>\n",
       "      <td>26</td>\n",
       "      <td>2</td>\n",
       "      <td>8599.17</td>\n",
       "      <td>2662</td>\n",
       "      <td>199</td>\n",
       "      <td>2688</td>\n",
       "      <td>143</td>\n",
       "      <td>...</td>\n",
       "      <td>-2</td>\n",
       "      <td>3C</td>\n",
       "      <td>62</td>\n",
       "      <td>26</td>\n",
       "      <td>2393</td>\n",
       "      <td>0.61</td>\n",
       "      <td>0</td>\n",
       "      <td>64</td>\n",
       "      <td>38</td>\n",
       "      <td>73</td>\n",
       "    </tr>\n",
       "    <tr>\n",
       "      <th>2</th>\n",
       "      <td>3</td>\n",
       "      <td>1</td>\n",
       "      <td>1</td>\n",
       "      <td>1</td>\n",
       "      <td>5</td>\n",
       "      <td>8969.92</td>\n",
       "      <td>6233</td>\n",
       "      <td>505</td>\n",
       "      <td>5741</td>\n",
       "      <td>829</td>\n",
       "      <td>...</td>\n",
       "      <td>-2</td>\n",
       "      <td>5A</td>\n",
       "      <td>2346</td>\n",
       "      <td>49</td>\n",
       "      <td>5654</td>\n",
       "      <td>0.48</td>\n",
       "      <td>3</td>\n",
       "      <td>52</td>\n",
       "      <td>12</td>\n",
       "      <td>88</td>\n",
       "    </tr>\n",
       "    <tr>\n",
       "      <th>3</th>\n",
       "      <td>4</td>\n",
       "      <td>2</td>\n",
       "      <td>3</td>\n",
       "      <td>7</td>\n",
       "      <td>2</td>\n",
       "      <td>18003.64</td>\n",
       "      <td>6034</td>\n",
       "      <td>672</td>\n",
       "      <td>5781</td>\n",
       "      <td>868</td>\n",
       "      <td>...</td>\n",
       "      <td>-2</td>\n",
       "      <td>5A</td>\n",
       "      <td>2746</td>\n",
       "      <td>0</td>\n",
       "      <td>4941</td>\n",
       "      <td>0.55</td>\n",
       "      <td>4</td>\n",
       "      <td>55</td>\n",
       "      <td>7</td>\n",
       "      <td>87</td>\n",
       "    </tr>\n",
       "    <tr>\n",
       "      <th>4</th>\n",
       "      <td>5</td>\n",
       "      <td>1</td>\n",
       "      <td>1</td>\n",
       "      <td>1</td>\n",
       "      <td>3</td>\n",
       "      <td>5999.61</td>\n",
       "      <td>5388</td>\n",
       "      <td>702</td>\n",
       "      <td>5313</td>\n",
       "      <td>797</td>\n",
       "      <td>...</td>\n",
       "      <td>-2</td>\n",
       "      <td>5A</td>\n",
       "      <td>2251</td>\n",
       "      <td>0</td>\n",
       "      <td>5426</td>\n",
       "      <td>0.61</td>\n",
       "      <td>4</td>\n",
       "      <td>50</td>\n",
       "      <td>13</td>\n",
       "      <td>90</td>\n",
       "    </tr>\n",
       "  </tbody>\n",
       "</table>\n",
       "<p>5 rows × 940 columns</p>\n",
       "</div>"
      ],
      "text/plain": [
       "   DOEID  REGIONC  DIVISION  REPORTABLE_DOMAIN  TYPEHUQ   NWEIGHT  HDD65  \\\n",
       "0      1        2         4                 12        2   2471.68   4742   \n",
       "1      2        4        10                 26        2   8599.17   2662   \n",
       "2      3        1         1                  1        5   8969.92   6233   \n",
       "3      4        2         3                  7        2  18003.64   6034   \n",
       "4      5        1         1                  1        3   5999.61   5388   \n",
       "\n",
       "   CDD65  HDD30YR  CDD30YR  ...  SCALEKER  IECC_Climate_Pub HDD50 CDD80  \\\n",
       "0   1080     4953     1271  ...        -2                4A  2117    56   \n",
       "1    199     2688      143  ...        -2                3C    62    26   \n",
       "2    505     5741      829  ...        -2                5A  2346    49   \n",
       "3    672     5781      868  ...        -2                5A  2746     0   \n",
       "4    702     5313      797  ...        -2                5A  2251     0   \n",
       "\n",
       "   GND_HDD65   WSF  OA_LAT  GWT  DesignDBT99  DesignDBT1  \n",
       "0       4250  0.48       6   56            9          96  \n",
       "1       2393  0.61       0   64           38          73  \n",
       "2       5654  0.48       3   52           12          88  \n",
       "3       4941  0.55       4   55            7          87  \n",
       "4       5426  0.61       4   50           13          90  \n",
       "\n",
       "[5 rows x 940 columns]"
      ]
     },
     "execution_count": 3,
     "metadata": {},
     "output_type": "execute_result"
    }
   ],
   "source": [
    "data.head()"
   ]
  },
  {
   "cell_type": "code",
   "execution_count": 4,
   "id": "fcc701cb",
   "metadata": {},
   "outputs": [
    {
     "data": {
      "text/plain": [
       "(12083, 940)"
      ]
     },
     "execution_count": 4,
     "metadata": {},
     "output_type": "execute_result"
    }
   ],
   "source": [
    "data.shape"
   ]
  },
  {
   "cell_type": "markdown",
   "id": "ee60cec8",
   "metadata": {},
   "source": [
    "# 2. Cleaning Data"
   ]
  },
  {
   "cell_type": "code",
   "execution_count": 5,
   "id": "9a7f0265",
   "metadata": {},
   "outputs": [],
   "source": [
    "# drop ID\n",
    "data.drop(columns=\"DOEID\", inplace = True)"
   ]
  },
  {
   "cell_type": "code",
   "execution_count": 6,
   "id": "0f1b45d8",
   "metadata": {},
   "outputs": [],
   "source": [
    "# Two messy columns to clean up\n",
    "# print(data.columns[717:719],end=\"\\n\\n\")\n",
    "\n",
    "# print(\"Before Cleaning:\")\n",
    "# print(data.NOCRCASH.unique())\n",
    "# print(data.NKRGALNC.unique(),end=\"\\n\\n\")\n",
    "\n",
    "data.NOCRCASH = data.NOCRCASH.replace('.',-2).astype(int)\n",
    "data.NKRGALNC = data.NKRGALNC.replace('.',-2).astype(int)\n",
    "\n",
    "# print(\"After cleaning\")\n",
    "# print(data.NOCRCASH.unique())\n",
    "# print(data.NKRGALNC.unique())"
   ]
  },
  {
   "cell_type": "code",
   "execution_count": 7,
   "id": "6514af4f",
   "metadata": {},
   "outputs": [],
   "source": [
    "# 3 string columns\n",
    "strCols = [\"METROMICRO\",\"UR\",\"IECC_Climate_Pub\"]\n",
    "# print(\"Before Cleaning:\")\n",
    "for col in strCols:\n",
    "    vals = np.unique(data[col])\n",
    "#     print(vals)\n",
    "    mapper = dict(zip(vals, range(0,vals.shape[0])))\n",
    "    data[col] = data[col].map(mapper)\n",
    "# print()\n",
    "# print(\"After Cleaning:\")\n",
    "for col in strCols:\n",
    "    vals = np.unique(data[col])\n",
    "#     print(vals)"
   ]
  },
  {
   "cell_type": "code",
   "execution_count": 8,
   "id": "a53ee087",
   "metadata": {},
   "outputs": [],
   "source": [
    "# drop columns that only have 1 unique value or <50% of the column values are applicable(!=-2) \n",
    "for i in data.columns:\n",
    "    vals,cnts = np.unique(data[i], return_counts=True)\n",
    "    if vals.shape[0]==0:\n",
    "        data.drop(columns=i, inplace=True)\n",
    "    if -2 in cnts and cnts[-2] >= 0.5 * data.shape[0]:\n",
    "        data.drop(columns=i, inplace=True)"
   ]
  },
  {
   "cell_type": "code",
   "execution_count": 9,
   "id": "66789606",
   "metadata": {},
   "outputs": [
    {
     "name": "stdout",
     "output_type": "stream",
     "text": [
      "There are 330 columns that 99.0% of the values in that column are the same\n"
     ]
    }
   ],
   "source": [
    "# Remove Quasi-Constant features\n",
    "qconstant_filter = VarianceThreshold(threshold=0.01)\n",
    "qconstant_filter.fit(data)\n",
    "print(\"There are\",data.shape[1]-len(data.columns[qconstant_filter.get_support()]),\"columns that\",\\\n",
    "      str((1-qconstant_filter.threshold)*100)+\"% of the values in that column are the same\")\n",
    "\n",
    "qconstant_columns = [column for column in data.columns\n",
    "                    if column not in data.columns[qconstant_filter.get_support()]]\n",
    "for i in qconstant_columns:\n",
    "    data.drop(columns=i,inplace=True)"
   ]
  },
  {
   "cell_type": "code",
   "execution_count": 10,
   "id": "5c2717fd",
   "metadata": {},
   "outputs": [
    {
     "name": "stdout",
     "output_type": "stream",
     "text": [
      "There are 199 correlated columns\n"
     ]
    }
   ],
   "source": [
    "# remove correlated features:\n",
    "corr_features = set()\n",
    "corr = data.corr()\n",
    "for i in range(corr.shape[0]):\n",
    "    for j in range(i):\n",
    "        if abs(corr.iloc[i,j])>=0.9:\n",
    "            corr_features.add(corr.columns[i])\n",
    "print(\"There are\",len(corr_features),\"correlated columns\")\n",
    "for i in corr_features:\n",
    "    data.drop(columns=i, inplace = True)"
   ]
  },
  {
   "cell_type": "code",
   "execution_count": 11,
   "id": "585e2eb0",
   "metadata": {},
   "outputs": [
    {
     "data": {
      "text/plain": [
       "(12083, 410)"
      ]
     },
     "execution_count": 11,
     "metadata": {},
     "output_type": "execute_result"
    }
   ],
   "source": [
    "data.shape"
   ]
  },
  {
   "cell_type": "markdown",
   "id": "7e9a64aa",
   "metadata": {},
   "source": [
    "# 3. Write data"
   ]
  },
  {
   "cell_type": "code",
   "execution_count": 12,
   "id": "4d0bcfe7",
   "metadata": {},
   "outputs": [],
   "source": [
    "import pickle\n",
    "with open('../data/cleaned.pickle', 'wb') as handle:\n",
    "    pickle.dump(data, handle)"
   ]
  }
 ],
 "metadata": {
  "kernelspec": {
   "display_name": "Python 3",
   "language": "python",
   "name": "python3"
  },
  "language_info": {
   "codemirror_mode": {
    "name": "ipython",
    "version": 3
   },
   "file_extension": ".py",
   "mimetype": "text/x-python",
   "name": "python",
   "nbconvert_exporter": "python",
   "pygments_lexer": "ipython3",
   "version": "3.8.5"
  }
 },
 "nbformat": 4,
 "nbformat_minor": 5
}
