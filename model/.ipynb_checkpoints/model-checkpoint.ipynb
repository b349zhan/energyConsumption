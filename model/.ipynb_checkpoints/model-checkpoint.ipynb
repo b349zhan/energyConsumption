{
 "cells": [
  {
   "cell_type": "code",
   "execution_count": 1,
   "id": "2df1bcd4",
   "metadata": {},
   "outputs": [],
   "source": [
    "# Normalizing data\n",
    "from sklearn.preprocessing import StandardScaler\n",
    "\n",
    "# Dimension Reduction\n",
    "from sklearn.decomposition import PCA\n",
    "\n",
    "# Modeling Utils\n",
    "from sklearn.model_selection import train_test_split\n",
    "from sklearn.metrics import mean_squared_error\n",
    "\n",
    "# Load Data\n",
    "import pickle\n",
    "\n",
    "# Data Manipulation\n",
    "import numpy as np"
   ]
  },
  {
   "cell_type": "code",
   "execution_count": 2,
   "id": "8c1a06a6",
   "metadata": {},
   "outputs": [],
   "source": [
    "with open('../data/cleaned.pickle', 'rb') as handle:\n",
    "    data = pickle.load(handle)\n",
    "originalX = data.loc[:,data.columns!=\"KWH\"].to_numpy()\n",
    "y = data.loc[:,data.columns==\"KWH\"].to_numpy().flatten()\n",
    "scaler = StandardScaler()\n",
    "X = scaler.fit_transform(originalX)\n",
    "\n",
    "## Tried PCA, but lost information while reducing dimensionality\n",
    "# pca = PCA(n_components=300)\n",
    "# X = pca.fit_transform(X)"
   ]
  },
  {
   "cell_type": "code",
   "execution_count": 3,
   "id": "4a92c459",
   "metadata": {},
   "outputs": [],
   "source": [
    "trainX, testX, trainy, testy = train_test_split(X,y,train_size=0.7)"
   ]
  },
  {
   "cell_type": "markdown",
   "id": "603e4e35",
   "metadata": {},
   "source": [
    "# Linear Regression"
   ]
  },
  {
   "cell_type": "code",
   "execution_count": 11,
   "id": "f0c89142",
   "metadata": {},
   "outputs": [
    {
     "name": "stdout",
     "output_type": "stream",
     "text": [
      "Linear Regression with Mean Squared Error: 3.1675833505639946e-05\n",
      "R^2: 0.9999999999994712\n",
      "Possible overfitting?\n"
     ]
    }
   ],
   "source": [
    "from sklearn.linear_model import LinearRegression\n",
    "model = LinearRegression().fit(trainX, trainy)\n",
    "pred = model.predict(testX)\n",
    "mse = mean_squared_error(pred, testy)\n",
    "print(\"Linear Regression with Mean Squared Error:\", mse)\n",
    "print(\"R^2:\",model.score(testX, testy))\n",
    "print(\"Possible overfitting?\")"
   ]
  },
  {
   "cell_type": "markdown",
   "id": "2e153901",
   "metadata": {},
   "source": [
    "# Ridge Regression"
   ]
  },
  {
   "cell_type": "code",
   "execution_count": 4,
   "id": "d3a780c7",
   "metadata": {},
   "outputs": [
    {
     "name": "stdout",
     "output_type": "stream",
     "text": [
      "Ridge Regression Best alpha: 0.01 with Mean Squared Error: 0.4256219919156357\n",
      "Explanability(R^2): 0.9999999928949019\n"
     ]
    }
   ],
   "source": [
    "from sklearn.linear_model import RidgeCV\n",
    "model = RidgeCV(alphas = np.linspace(0.01, 50, 50), cv=5).fit(trainX, trainy)\n",
    "pred = model.predict(testX)\n",
    "mse = mean_squared_error(pred, testy)\n",
    "print(\"Ridge Regression Best alpha:\",model.alpha_, \"with Mean Squared Error:\", mse)\n",
    "print(\"Explanability(R^2):\", model.score(testX, testy))"
   ]
  },
  {
   "cell_type": "markdown",
   "id": "5aea0c84",
   "metadata": {},
   "source": [
    "# Lasso Regression"
   ]
  },
  {
   "cell_type": "code",
   "execution_count": 5,
   "id": "974fc810",
   "metadata": {},
   "outputs": [
    {
     "name": "stdout",
     "output_type": "stream",
     "text": [
      "Lasso Regression Best alpha: 0.01 with Mean Squared Error: 19.628470126217238\n",
      "Explanability(R^2): 0.9999996723331782\n",
      "Removed 409 columns in lasso variable selection side effect\n"
     ]
    }
   ],
   "source": [
    "from sklearn.linear_model import LassoCV\n",
    "model = LassoCV(alphas = np.linspace(0.01, 50, 200), cv=10, random_state=0).fit(trainX, trainy)\n",
    "pred = model.predict(testX)\n",
    "mse = mean_squared_error(pred, testy)\n",
    "print(\"Lasso Regression Best alpha:\",model.alpha_, \"with Mean Squared Error:\", mse)\n",
    "print(\"Explanability(R^2):\", model.score(testX, testy))\n",
    "cnt = 0\n",
    "for i in model.coef_:\n",
    "    cnt+=1\n",
    "print(\"Removed\",cnt,\"columns in lasso variable selection side effect\")"
   ]
  },
  {
   "cell_type": "markdown",
   "id": "f30fdb52",
   "metadata": {},
   "source": [
    "# Elastic Net"
   ]
  },
  {
   "cell_type": "code",
   "execution_count": 6,
   "id": "aaa0728e",
   "metadata": {},
   "outputs": [],
   "source": [
    "# from sklearn.linear_model import ElasticNetCV\n",
    "# model = ElasticNetCV(l1_ratio = np.linspace(1, 50, 50),\\\n",
    "#                      alphas = np.linspace(1, 50, 50), cv=5, random_state=0,max_iter = 1000000000000).fit(trainX, trainy)\n",
    "# pred = model.predict(testX)\n",
    "# mse = mean_squared_error(pred, testy)\n",
    "# print(\"Lasso Regression Best alpha:\",model.alpha_, \"with Mean Squared Error:\", mse)\n",
    "# print(\"Explanability(R^2):\", model.score(testX, testy))\n",
    "# cnt = 0\n",
    "# for i in model.coef_:\n",
    "#     cnt+=1\n",
    "# print(\"Removed\",cnt,\"columns in lasso variable selection side effect\")"
   ]
  },
  {
   "cell_type": "markdown",
   "id": "1db6ac02",
   "metadata": {},
   "source": [
    "# SVR"
   ]
  },
  {
   "cell_type": "code",
   "execution_count": 7,
   "id": "538b03bf",
   "metadata": {},
   "outputs": [
    {
     "name": "stdout",
     "output_type": "stream",
     "text": [
      "SVR with Mean Squared Error: 61941376.425311156\n"
     ]
    }
   ],
   "source": [
    "# from sklearn.svm import SVR\n",
    "# model = SVR(C = 0.2).fit(trainX, trainy)\n",
    "# pred = model.predict(testX)\n",
    "# mse = mean_squared_error(pred, testy)\n",
    "# print(\"SVR with Mean Squared Error:\", mse)"
   ]
  }
 ],
 "metadata": {
  "kernelspec": {
   "display_name": "Python 3",
   "language": "python",
   "name": "python3"
  },
  "language_info": {
   "codemirror_mode": {
    "name": "ipython",
    "version": 3
   },
   "file_extension": ".py",
   "mimetype": "text/x-python",
   "name": "python",
   "nbconvert_exporter": "python",
   "pygments_lexer": "ipython3",
   "version": "3.8.5"
  }
 },
 "nbformat": 4,
 "nbformat_minor": 5
}
